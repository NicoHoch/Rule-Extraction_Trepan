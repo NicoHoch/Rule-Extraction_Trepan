{
 "cells": [
  {
   "cell_type": "code",
   "execution_count": 1,
   "metadata": {},
   "outputs": [],
   "source": [
    "import sys\n",
    "import pandas as pd\n",
    "import numpy as np\n",
    "import time\n",
    "\n",
    "from sklearn.preprocessing import OneHotEncoder, LabelEncoder\n",
    "from sklearn.model_selection import train_test_split\n",
    "\n",
    "from generalizedtrees.recipes import trepan\n",
    "from generalizedtrees.vis.vis import explanation_to_html\n",
    "from generalizedtrees.features import FeatureSpec\n",
    "\n",
    "from sklearn.metrics import classification_report\n",
    "\n",
    "np_rng = np.random.default_rng(8372234)\n",
    "sk_rng = np.random.RandomState(3957458)"
   ]
  },
  {
   "cell_type": "code",
   "execution_count": 2,
   "metadata": {},
   "outputs": [],
   "source": [
    "#load data\n",
    "data_train = pd.read_csv('iris.csv')"
   ]
  },
  {
   "cell_type": "code",
   "execution_count": 3,
   "metadata": {},
   "outputs": [],
   "source": [
    "#prepair data\n",
    "data_df = data_train.drop(['species'], axis=1)\n",
    "\n",
    "encoder = OneHotEncoder(drop = 'if_binary')\n",
    "lencoder = LabelEncoder()\n",
    "\n",
    "numeric_features = data_df.select_dtypes(include = 'number')\n",
    "categorical_features_df = data_df.select_dtypes(exclude = 'number')\n",
    "categorical_features = encoder.fit_transform(categorical_features_df).toarray()\n",
    "feature_names = np.append(numeric_features.columns, encoder.get_feature_names(categorical_features_df.columns))\n",
    "\n",
    "x = np.append(\n",
    "    numeric_features,\n",
    "    categorical_features,\n",
    "    axis = 1)\n",
    "\n",
    "y = lencoder.fit_transform(data_train['species'])\n",
    "\n",
    "\n",
    "#splitt edata\n",
    "x_train, x_test, y_train, y_test = train_test_split(x, y, test_size=0.1, random_state = 42)"
   ]
  },
  {
   "cell_type": "code",
   "execution_count": 4,
   "metadata": {},
   "outputs": [
    {
     "data": {
      "text/html": [
       "<div>\n",
       "<style scoped>\n",
       "    .dataframe tbody tr th:only-of-type {\n",
       "        vertical-align: middle;\n",
       "    }\n",
       "\n",
       "    .dataframe tbody tr th {\n",
       "        vertical-align: top;\n",
       "    }\n",
       "\n",
       "    .dataframe thead th {\n",
       "        text-align: right;\n",
       "    }\n",
       "</style>\n",
       "<table border=\"1\" class=\"dataframe\">\n",
       "  <thead>\n",
       "    <tr style=\"text-align: right;\">\n",
       "      <th></th>\n",
       "      <th>Feature Name</th>\n",
       "    </tr>\n",
       "  </thead>\n",
       "  <tbody>\n",
       "    <tr>\n",
       "      <th>0</th>\n",
       "      <td>sepal length</td>\n",
       "    </tr>\n",
       "    <tr>\n",
       "      <th>1</th>\n",
       "      <td>sepal width</td>\n",
       "    </tr>\n",
       "    <tr>\n",
       "      <th>2</th>\n",
       "      <td>petal length</td>\n",
       "    </tr>\n",
       "    <tr>\n",
       "      <th>3</th>\n",
       "      <td>petal width</td>\n",
       "    </tr>\n",
       "  </tbody>\n",
       "</table>\n",
       "</div>"
      ],
      "text/plain": [
       "   Feature Name\n",
       "0  sepal length\n",
       "1   sepal width\n",
       "2  petal length\n",
       "3   petal width"
      ]
     },
     "execution_count": 4,
     "metadata": {},
     "output_type": "execute_result"
    }
   ],
   "source": [
    "pd.DataFrame({'Feature Name': feature_names})"
   ]
  },
  {
   "cell_type": "code",
   "execution_count": 5,
   "metadata": {},
   "outputs": [
    {
     "data": {
      "text/plain": [
       "Pipeline(steps=[('standardscaler', StandardScaler()),\n",
       "                ('mlpclassifier',\n",
       "                 MLPClassifier(alpha=1e-05, hidden_layer_sizes=(5,),\n",
       "                               random_state=RandomState(MT19937) at 0x26F87471340,\n",
       "                               solver='lbfgs'))])"
      ]
     },
     "execution_count": 5,
     "metadata": {},
     "output_type": "execute_result"
    }
   ],
   "source": [
    "#create a neural network as oracle\n",
    "from sklearn.model_selection import GridSearchCV\n",
    "from sklearn.neural_network import MLPClassifier\n",
    "from sklearn.pipeline import make_pipeline\n",
    "from sklearn.preprocessing import StandardScaler\n",
    "\n",
    "clf = GridSearchCV(\n",
    "    make_pipeline(StandardScaler(), MLPClassifier(solver='lbfgs', alpha=1e-5, random_state=sk_rng)),\n",
    "    param_grid = {'mlpclassifier__hidden_layer_sizes': [(5,), (10,), (20,), (40,)]},\n",
    "    refit = True\n",
    ")\n",
    "clf.fit(x_train, y_train)\n",
    "clf.best_estimator_"
   ]
  },
  {
   "cell_type": "code",
   "execution_count": 6,
   "metadata": {},
   "outputs": [],
   "source": [
    "#prepair the TREPAN algorithm\n",
    "explanation = trepan(\n",
    "    m_of_n=True,\n",
    "    max_tree_size=10,\n",
    "    impurity='entropy',\n",
    "    rng = np_rng)"
   ]
  },
  {
   "cell_type": "code",
   "execution_count": 7,
   "metadata": {},
   "outputs": [
    {
     "name": "stderr",
     "output_type": "stream",
     "text": [
      "Assuming continuous features in the absence of feature specifications\n"
     ]
    },
    {
     "name": "stdout",
     "output_type": "stream",
     "text": [
      "Time taken to learn explanation: 92.53777551651001 seconds\n",
      "Test 2 of ['x[2] ≤ 2.45', 'x[3] ≤ 0.8', 'x[1] > 3.6500000000000004', 'x[2] ≤ 5.15', 'x[3] ≤ 1.55']\n",
      "+--Test 2 of ['x[2] ≤ 2.45', 'x[1] > 3.25', 'x[0] ≤ 5.75']\n",
      "|  +--[0.48  0.327 0.193]\n",
      "|  +--Test x[2] ≤ 4.95\n",
      "|     +--[0.238 0.619 0.143]\n",
      "|     +--Test x[1] ≤ 2.5\n",
      "|        +--[0.049 0.326 0.625]\n",
      "|        +--[0.094 0.458 0.448]\n",
      "+--Test 2 of ['x[2] ≤ 4.6', 'x[3] ≤ 1.5', 'x[1] > 3.3499999999999996']\n",
      "   +--[0.403 0.344 0.253]\n",
      "   +--Test 1 of ['x[2] ≤ 4.6', 'x[3] ≤ 1.5']\n"
     ]
    }
   ],
   "source": [
    "#running TREPAN algorithm\n",
    "t0 = time.time()\n",
    "\n",
    "explanation.fit(x_train, clf)\n",
    "\n",
    "t1 = time.time()\n",
    "\n",
    "print(f'Time taken to learn explanation: {t1-t0} seconds')\n",
    "\n",
    "print(explanation.show_tree())"
   ]
  },
  {
   "cell_type": "code",
   "execution_count": 8,
   "metadata": {},
   "outputs": [],
   "source": [
    "#save resulting tree as html\n",
    "explanation_to_html(explanation, 'explanation.html')"
   ]
  },
  {
   "cell_type": "code",
   "execution_count": 9,
   "metadata": {},
   "outputs": [],
   "source": [
    "#compaire performances\n",
    "y_test_trepan = explanation.predict(x_test)\n",
    "y_test_model = clf.predict(x_test)"
   ]
  },
  {
   "cell_type": "code",
   "execution_count": 10,
   "metadata": {},
   "outputs": [
    {
     "name": "stdout",
     "output_type": "stream",
     "text": [
      "Trepan:\n",
      "                 precision    recall  f1-score   support\n",
      "\n",
      "    Iris-setosa       1.00      1.00      1.00         6\n",
      "Iris-versicolor       1.00      1.00      1.00         6\n",
      " Iris-virginica       1.00      1.00      1.00         3\n",
      "\n",
      "       accuracy                           1.00        15\n",
      "      macro avg       1.00      1.00      1.00        15\n",
      "   weighted avg       1.00      1.00      1.00        15\n",
      "\n",
      "Black Box:\n",
      "                 precision    recall  f1-score   support\n",
      "\n",
      "    Iris-setosa       1.00      1.00      1.00         6\n",
      "Iris-versicolor       1.00      1.00      1.00         6\n",
      " Iris-virginica       1.00      1.00      1.00         3\n",
      "\n",
      "       accuracy                           1.00        15\n",
      "      macro avg       1.00      1.00      1.00        15\n",
      "   weighted avg       1.00      1.00      1.00        15\n",
      "\n"
     ]
    }
   ],
   "source": [
    "#performances of TREPAN and neural network\n",
    "print('Trepan:')\n",
    "print(classification_report(y_test, y_test_trepan, target_names=lencoder.classes_))\n",
    "\n",
    "print('Black Box:')\n",
    "print(classification_report(y_test, y_test_model, target_names=lencoder.classes_))"
   ]
  },
  {
   "cell_type": "code",
   "execution_count": 11,
   "metadata": {},
   "outputs": [
    {
     "name": "stdout",
     "output_type": "stream",
     "text": [
      "Training set fidelity\n",
      "                 precision    recall  f1-score   support\n",
      "\n",
      "    Iris-setosa       0.98      1.00      0.99        44\n",
      "Iris-versicolor       1.00      0.91      0.95        44\n",
      " Iris-virginica       0.94      1.00      0.97        47\n",
      "\n",
      "       accuracy                           0.97       135\n",
      "      macro avg       0.97      0.97      0.97       135\n",
      "   weighted avg       0.97      0.97      0.97       135\n",
      "\n",
      "Test set fidelity\n",
      "                 precision    recall  f1-score   support\n",
      "\n",
      "    Iris-setosa       1.00      1.00      1.00         6\n",
      "Iris-versicolor       1.00      1.00      1.00         6\n",
      " Iris-virginica       1.00      1.00      1.00         3\n",
      "\n",
      "       accuracy                           1.00        15\n",
      "      macro avg       1.00      1.00      1.00        15\n",
      "   weighted avg       1.00      1.00      1.00        15\n",
      "\n"
     ]
    }
   ],
   "source": [
    "#compairing TREPAN and neural network by calculating fidelity\n",
    "print('Training set fidelity')\n",
    "print(classification_report(clf.predict(x_train), explanation.predict(x_train), target_names=lencoder.classes_))\n",
    "\n",
    "print('Test set fidelity')\n",
    "print(classification_report(y_test_model, y_test_trepan, target_names=lencoder.classes_))"
   ]
  },
  {
   "cell_type": "code",
   "execution_count": 12,
   "metadata": {},
   "outputs": [],
   "source": [
    "from sklearn.tree import DecisionTreeClassifier"
   ]
  },
  {
   "cell_type": "code",
   "execution_count": 13,
   "metadata": {},
   "outputs": [],
   "source": [
    "tree_clf = DecisionTreeClassifier()\n",
    "tree_model = tree_clf.fit(x_train, y_train)"
   ]
  },
  {
   "cell_type": "code",
   "execution_count": 14,
   "metadata": {},
   "outputs": [],
   "source": [
    "y_test_tree_model = tree_model.predict(x_test)"
   ]
  },
  {
   "cell_type": "code",
   "execution_count": 15,
   "metadata": {},
   "outputs": [
    {
     "name": "stdout",
     "output_type": "stream",
     "text": [
      "Tree:\n",
      "                 precision    recall  f1-score   support\n",
      "\n",
      "    Iris-setosa       1.00      1.00      1.00         6\n",
      "Iris-versicolor       1.00      1.00      1.00         6\n",
      " Iris-virginica       1.00      1.00      1.00         3\n",
      "\n",
      "       accuracy                           1.00        15\n",
      "      macro avg       1.00      1.00      1.00        15\n",
      "   weighted avg       1.00      1.00      1.00        15\n",
      "\n"
     ]
    }
   ],
   "source": [
    "print('Tree:')\n",
    "print(classification_report(y_test, y_test_tree_model, target_names=lencoder.classes_))"
   ]
  }
 ],
 "metadata": {
  "kernelspec": {
   "display_name": "Python 3",
   "language": "python",
   "name": "python3"
  },
  "language_info": {
   "codemirror_mode": {
    "name": "ipython",
    "version": 3
   },
   "file_extension": ".py",
   "mimetype": "text/x-python",
   "name": "python",
   "nbconvert_exporter": "python",
   "pygments_lexer": "ipython3",
   "version": "3.8.5"
  }
 },
 "nbformat": 4,
 "nbformat_minor": 4
}
